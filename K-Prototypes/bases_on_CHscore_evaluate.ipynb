{
  "nbformat": 4,
  "nbformat_minor": 0,
  "metadata": {
    "colab": {
      "name": "bases_on_CHscore_evaluate.ipynb",
      "provenance": [],
      "collapsed_sections": [
        "Od5Sy8N58l7I",
        "WYwzEAET8nn4",
        "wy1V79QG8pRg"
      ]
    },
    "kernelspec": {
      "name": "python3",
      "display_name": "Python 3"
    },
    "language_info": {
      "name": "python"
    }
  },
  "cells": [
    {
      "cell_type": "markdown",
      "source": [
        "# **load evaluative data**"
      ],
      "metadata": {
        "id": "K3QmwGTyIefV"
      }
    },
    {
      "cell_type": "code",
      "source": [
        "from google.colab import drive\n",
        "drive.mount('/content/drive')"
      ],
      "metadata": {
        "colab": {
          "base_uri": "https://localhost:8080/"
        },
        "id": "Ht5cjVM-dDQo",
        "outputId": "c6df9a6e-f75b-4e46-939b-fff553943ffd"
      },
      "execution_count": 1,
      "outputs": [
        {
          "output_type": "stream",
          "name": "stdout",
          "text": [
            "Drive already mounted at /content/drive; to attempt to forcibly remount, call drive.mount(\"/content/drive\", force_remount=True).\n"
          ]
        }
      ]
    },
    {
      "cell_type": "code",
      "execution_count": 2,
      "metadata": {
        "id": "DX0knYpcSEm9"
      },
      "outputs": [],
      "source": [
        "import pandas as pd\n",
        "import numpy as np\n",
        "import json\n",
        "import math"
      ]
    },
    {
      "cell_type": "code",
      "source": [
        "# %cd '/content/drive/MyDrive/巨量行銷/kprototypes'\n",
        "# !unzip drive-download-20220514T063310Z-001.zip"
      ],
      "metadata": {
        "colab": {
          "base_uri": "https://localhost:8080/"
        },
        "id": "J5PjBoHPSrnZ",
        "outputId": "81fa60df-0b71-46f3-f020-dd81aaf3c5a9"
      },
      "execution_count": 4,
      "outputs": [
        {
          "output_type": "stream",
          "name": "stdout",
          "text": [
            "Archive:  drive-download-20220514T063310Z-001.zip\n",
            "  inflating: outputs/set3_k10.json   \n",
            "  inflating: outputs/set4_k20.json   \n",
            "  inflating: outputs/set2_k20.json   \n",
            "  inflating: outputs/set4_k30.json   \n",
            "  inflating: outputs/set1_k20.json   \n",
            "  inflating: outputs/set1_k10.json   \n",
            "  inflating: outputs/set3_k20.json   \n",
            "  inflating: outputs/set2_k10.json   \n",
            "  inflating: outputs/set4_k10.json   \n",
            "  inflating: outputs/set1_k30.json   \n",
            "  inflating: outputs/set2_k30.json   \n",
            "  inflating: outputs/set3_k30.json   \n",
            "  inflating: results/set1_k20.csv    \n",
            "  inflating: results/set1_k10.csv    \n",
            "  inflating: results/set2_k20.csv    \n",
            "  inflating: results/set3_k10.csv    \n",
            "  inflating: results/set1_k30.csv    \n",
            "  inflating: results/set3_k30.csv    \n",
            "  inflating: results/set2_k30.csv    \n",
            "  inflating: results/set3_k20.csv    \n",
            "  inflating: results/set4_k20.csv    \n",
            "  inflating: results/set2_k10.csv    \n",
            "  inflating: results/set4_k10.csv    \n",
            "  inflating: results/set4_k30.csv    \n"
          ]
        }
      ]
    },
    {
      "cell_type": "markdown",
      "source": [
        "# **set 1**"
      ],
      "metadata": {
        "id": "1RpxzjIE1rWu"
      }
    },
    {
      "cell_type": "markdown",
      "source": [
        "# **calculate evaluative scores(based on Calinski-Harabasz Score)**"
      ],
      "metadata": {
        "id": "Akv3kP8eQzlj"
      }
    },
    {
      "cell_type": "markdown",
      "source": [
        "**load data**"
      ],
      "metadata": {
        "id": "-pvmnTHPU4KD"
      }
    },
    {
      "cell_type": "code",
      "source": [
        "set1_k10_df = pd.read_csv('/content/drive/MyDrive/巨量行銷/kprototypes/results/set1_k10.csv', dtype={'Gender_Code':str, 'ZIP_Code':str, 'AD_TAG':str, 'INV_time_mode':str, 'APP_time_mode':str, 'TXN_time_mode':str, 'TXN_zip_code':str})\n",
        "set1_k20_df = pd.read_csv('/content/drive/MyDrive/巨量行銷/kprototypes/results/set1_k20.csv', dtype={'Gender_Code':str, 'ZIP_Code':str, 'AD_TAG':str, 'INV_time_mode':str, 'APP_time_mode':str, 'TXN_time_mode':str, 'TXN_zip_code':str})\n",
        "set1_k30_df = pd.read_csv('/content/drive/MyDrive/巨量行銷/kprototypes/results/set1_k30.csv', dtype={'Gender_Code':str, 'ZIP_Code':str, 'AD_TAG':str, 'INV_time_mode':str, 'APP_time_mode':str, 'TXN_time_mode':str, 'TXN_zip_code':str})"
      ],
      "metadata": {
        "id": "m-lGcaxDUAg-"
      },
      "execution_count": 3,
      "outputs": []
    },
    {
      "cell_type": "code",
      "source": [
        "with open(\"/content/drive/MyDrive/巨量行銷/kprototypes/outputs/set1_k10.json\") as f:\n",
        "  set1_k10_json = json.load(f)\n",
        "\n",
        "with open(\"/content/drive/MyDrive/巨量行銷/kprototypes/outputs/set1_k20.json\") as f:\n",
        "  set1_k20_json = json.load(f)\n",
        "\n",
        "with open(\"/content/drive/MyDrive/巨量行銷/kprototypes/outputs/set1_k30.json\") as f:\n",
        "  set1_k30_json = json.load(f)"
      ],
      "metadata": {
        "id": "G8IDnZeMUHtg"
      },
      "execution_count": 4,
      "outputs": []
    },
    {
      "cell_type": "markdown",
      "source": [
        "**count per cluster**"
      ],
      "metadata": {
        "id": "mw1SEm3qVBiI"
      }
    },
    {
      "cell_type": "code",
      "source": [
        "count_per_cluster_df = set1_k10_df['cluster_labels'].value_counts().rename_axis('cluster_num').reset_index(name='counts')\n",
        "count_per_cluster_df = count_per_cluster_df.sort_values(by=['cluster_num'])\n",
        "count_per_cluster = count_per_cluster_df['counts'].values.tolist()\n",
        "print(count_per_cluster)\n",
        "print(len(count_per_cluster))"
      ],
      "metadata": {
        "colab": {
          "base_uri": "https://localhost:8080/"
        },
        "id": "4n8gmXvzkPqX",
        "outputId": "070d29f9-1ccd-45c5-a36b-f687fc14701b"
      },
      "execution_count": 13,
      "outputs": [
        {
          "output_type": "stream",
          "name": "stdout",
          "text": [
            "[6916, 6, 566, 8692, 22452, 4137, 6188, 5500, 14, 709, 7449, 15554, 2, 10656, 294, 36847, 27705, 16395, 24261, 291, 32019, 21028, 476, 21643, 3744, 11506, 87, 20, 5111, 18623]\n",
            "30\n"
          ]
        }
      ]
    },
    {
      "cell_type": "markdown",
      "source": [
        "**find the centroid of the dataset**"
      ],
      "metadata": {
        "id": "n3FDNfl8ZNWw"
      }
    },
    {
      "cell_type": "code",
      "source": [
        "temp = []\n",
        "\n",
        "categorical_feature = set1_k10_df[['Gender_Code', 'ZIP_Code', 'AD_TAG', 'INV_time_mode', 'APP_time_mode', 'TXN_time_mode', 'TXN_zip_code']]\n",
        "numerical_feature = set1_k10_df.drop(columns=['Gender_Code', 'ZIP_Code', 'AD_TAG', 'INV_time_mode', 'APP_time_mode', 'TXN_time_mode', 'TXN_zip_code', 'cluster_labels'])\n",
        "\n",
        "temp.append(set1_k10_df[list(numerical_feature.columns)].mean().values.tolist())\n",
        "temp.append(categorical_feature.mode().values.tolist())\n",
        "#print(temp)\n",
        "\n",
        "dataset_centroids = []\n",
        "for i in range(len(temp[0])):\n",
        "  dataset_centroids.append(temp[0][i])\n",
        "\n",
        "for i in range(len(temp[1][0])):\n",
        "  dataset_centroids.append(temp[1][0][i])\n",
        "\n",
        "print(dataset_centroids)\n",
        "print(len(dataset_centroids))"
      ],
      "metadata": {
        "colab": {
          "base_uri": "https://localhost:8080/"
        },
        "id": "poqSWjf-ZUBp",
        "outputId": "4af4c3ce-4558-4c15-a678-c41ecb5dc985"
      },
      "execution_count": 14,
      "outputs": [
        {
          "output_type": "stream",
          "name": "stdout",
          "text": [
            "[-1.9670794114423322e-16, -7.527986994143146e-17, 1.718306190164684e-16, -1.758796545861717e-15, -1.5461310649084406e-15, -1.6862261357275505e-15, -1.8584981140519205e-16, -4.1207910797100547e-16, 'F', '300', 'P02', '23:00-23:59', 'unknown', '00', 'unknown']\n",
            "15\n"
          ]
        }
      ]
    },
    {
      "cell_type": "markdown",
      "source": [
        "**calculate the distance between clusters**"
      ],
      "metadata": {
        "id": "ERSnYnrKWRHg"
      }
    },
    {
      "cell_type": "code",
      "source": [
        "#將群心的數值型資料從str轉為float\n",
        "for i in range(len(set1_k10_json['cluster_centroids'])):\n",
        "  for j in range(0,8):\n",
        "    set1_k10_json['cluster_centroids'][i][j] = float(set1_k10_json['cluster_centroids'][i][j])"
      ],
      "metadata": {
        "id": "NyJdxvB5UZNs"
      },
      "execution_count": 15,
      "outputs": []
    },
    {
      "cell_type": "code",
      "source": [
        "## 計算群間總距離\n",
        "\n",
        "#for numeric data(Euclidean distance) \n",
        "#計算資料中心點與所有群心的距離平方和加總\n",
        "def SquareDsit(x, y):\n",
        "  return sum([(x-y)**2 for (x,y) in zip(x,y)])\n",
        "\n",
        "numeric_dist_between_cluters = 0\n",
        "for i in range(len(set1_k10_json['cluster_centroids'])):\n",
        "  distance = count_per_cluster[i]*(SquareDsit(set1_k10_json['cluster_centroids'][i][:8], dataset_centroids[:8]))\n",
        "  numeric_dist_between_cluters += distance\n",
        "\n",
        "\n",
        "\n",
        "#for categorical data\n",
        "temp = 0\n",
        "categorical_dist_between_cluters = 0\n",
        "for i in range(len(set1_k10_json['cluster_centroids'])):\n",
        "  for j in range(len(set1_k10_json['cluster_centroids'][i][8:])):\n",
        "    if (set1_k10_json['cluster_centroids'][i][8+j] == dataset_centroids[8+j]):\n",
        "      temp += 0\n",
        "    elif (set1_k10_json['cluster_centroids'][i][8+j] != dataset_centroids[8+j]):\n",
        "      temp += 1    \n",
        "  distance = count_per_cluster[i]*temp\n",
        "  temp = 0\n",
        "  categorical_dist_between_cluters += distance\n",
        "\n",
        "\n",
        "\n",
        "#mix numeric and categorical\n",
        "categorical_weight = set1_k10_json['categorical_weight'] \n",
        "dist_between_cluters = numeric_dist_between_cluters + (categorical_weight * categorical_dist_between_cluters)"
      ],
      "metadata": {
        "id": "eT2uPUiZUjKO"
      },
      "execution_count": 16,
      "outputs": []
    },
    {
      "cell_type": "markdown",
      "source": [
        "**calculate evaluative scores**"
      ],
      "metadata": {
        "id": "CC_HJnKSXGVg"
      }
    },
    {
      "cell_type": "code",
      "source": [
        "dist_within_cluster = set1_k10_json['dist_within_cluster'] \n",
        "N = len(set1_k10_df)\n",
        "k = 10"
      ],
      "metadata": {
        "id": "-VqMKalDRiVm"
      },
      "execution_count": 17,
      "outputs": []
    },
    {
      "cell_type": "code",
      "source": [
        "#evaluate score(based on Calinski-Harabasz Score) -> (distance between clusters/distance within cluster)*(N-k/k-1)\n",
        "evaluate_score = (dist_between_cluters/(dist_within_cluster))*((N-k)/(k-1))\n",
        "evaluate_score"
      ],
      "metadata": {
        "colab": {
          "base_uri": "https://localhost:8080/"
        },
        "id": "FlSusAo6UkT9",
        "outputId": "d5f7de53-53af-468f-9bb8-697cfeb6f57c"
      },
      "execution_count": 18,
      "outputs": [
        {
          "output_type": "execute_result",
          "data": {
            "text/plain": [
              "23664.8529175796"
            ]
          },
          "metadata": {},
          "execution_count": 18
        }
      ]
    },
    {
      "cell_type": "markdown",
      "source": [
        "# **set 2**"
      ],
      "metadata": {
        "id": "2SAnY5lG3_-w"
      }
    },
    {
      "cell_type": "markdown",
      "source": [
        "# **calculate evaluative scores(based on Calinski-Harabasz Score)**"
      ],
      "metadata": {
        "id": "Od5Sy8N58l7I"
      }
    },
    {
      "cell_type": "markdown",
      "source": [
        "**load data**"
      ],
      "metadata": {
        "id": "PP3vrVZz8l7J"
      }
    },
    {
      "cell_type": "code",
      "source": [
        "set2_k10_df = pd.read_csv('/content/drive/MyDrive/巨量行銷/kprototypes/results/set2_k10.csv', dtype={'Gender_Code':str, 'ZIP_Code':str, 'AD_TAG':str, 'INV_time_mode':str, 'APP_time_mode':str, 'TXN_time_mode':str, 'TXN_zip_code':str})\n",
        "set2_k20_df = pd.read_csv('/content/drive/MyDrive/巨量行銷/kprototypes/results/set2_k20.csv', dtype={'Gender_Code':str, 'ZIP_Code':str, 'AD_TAG':str, 'INV_time_mode':str, 'APP_time_mode':str, 'TXN_time_mode':str, 'TXN_zip_code':str})\n",
        "set2_k30_df = pd.read_csv('/content/drive/MyDrive/巨量行銷/kprototypes/results/set2_k30.csv', dtype={'Gender_Code':str, 'ZIP_Code':str, 'AD_TAG':str, 'INV_time_mode':str, 'APP_time_mode':str, 'TXN_time_mode':str, 'TXN_zip_code':str})"
      ],
      "metadata": {
        "id": "-mRBmZKi8l7K"
      },
      "execution_count": 19,
      "outputs": []
    },
    {
      "cell_type": "code",
      "source": [
        "with open(\"/content/drive/MyDrive/巨量行銷/kprototypes/outputs/set2_k10.json\") as f:\n",
        "  set2_k10_json = json.load(f)\n",
        "\n",
        "with open(\"/content/drive/MyDrive/巨量行銷/kprototypes/outputs/set2_k20.json\") as f:\n",
        "  set2_k20_json = json.load(f)\n",
        "\n",
        "with open(\"/content/drive/MyDrive/巨量行銷/kprototypes/outputs/set2_k30.json\") as f:\n",
        "  set2_k30_json = json.load(f)"
      ],
      "metadata": {
        "id": "-A8yUFuM8l7L"
      },
      "execution_count": 20,
      "outputs": []
    },
    {
      "cell_type": "markdown",
      "source": [
        "**count per cluster**"
      ],
      "metadata": {
        "id": "Qcj2rh5y8l7M"
      }
    },
    {
      "cell_type": "code",
      "source": [
        "count_per_cluster_df = set2_k30_df['cluster_labels'].value_counts().rename_axis('cluster_num').reset_index(name='counts')\n",
        "count_per_cluster_df = count_per_cluster_df.sort_values(by=['cluster_num'])\n",
        "count_per_cluster = count_per_cluster_df['counts'].values.tolist()\n",
        "print(count_per_cluster)\n",
        "print(len(count_per_cluster))"
      ],
      "metadata": {
        "colab": {
          "base_uri": "https://localhost:8080/"
        },
        "outputId": "57396570-681d-4266-ecf0-8c01504eb80a",
        "id": "kngXroVE8l7M"
      },
      "execution_count": 33,
      "outputs": [
        {
          "output_type": "stream",
          "name": "stdout",
          "text": [
            "[23876, 914, 6527, 15, 4790, 6010, 1699, 13167, 9151, 910, 396, 6298, 9722, 9506, 1993, 18021, 11047, 556, 435, 14649, 15621, 35791, 74, 22119, 6634, 42373, 27089, 6, 19495, 7]\n",
            "30\n"
          ]
        }
      ]
    },
    {
      "cell_type": "markdown",
      "source": [
        "**find the centroid of the dataset**"
      ],
      "metadata": {
        "id": "Z--ETDmW8l7N"
      }
    },
    {
      "cell_type": "code",
      "source": [
        "temp = []\n",
        "\n",
        "categorical_feature = set2_k30_df[['Gender_Code', 'ZIP_Code', 'AD_TAG', 'INV_time_mode', 'APP_time_mode', 'TXN_time_mode', 'TXN_zip_code']]\n",
        "numerical_feature = set2_k30_df.drop(columns=['Gender_Code', 'ZIP_Code', 'AD_TAG', 'INV_time_mode', 'APP_time_mode', 'TXN_time_mode', 'TXN_zip_code', 'cluster_labels'])\n",
        "\n",
        "temp.append(set2_k30_df[list(numerical_feature.columns)].mean().values.tolist())\n",
        "temp.append(categorical_feature.mode().values.tolist())\n",
        "#print(temp)\n",
        "\n",
        "dataset_centroids = []\n",
        "for i in range(len(temp[0])):\n",
        "  dataset_centroids.append(temp[0][i])\n",
        "\n",
        "for i in range(len(temp[1][0])):\n",
        "  dataset_centroids.append(temp[1][0][i])\n",
        "\n",
        "print(dataset_centroids)\n",
        "print(len(dataset_centroids))"
      ],
      "metadata": {
        "colab": {
          "base_uri": "https://localhost:8080/"
        },
        "outputId": "a6a57d23-47ce-4a46-ac89-ee425fb26836",
        "id": "f1NGvNc98l7N"
      },
      "execution_count": 34,
      "outputs": [
        {
          "output_type": "stream",
          "name": "stdout",
          "text": [
            "[-1.7139122529907155e-16, -7.527986994143146e-17, -1.4407941936690026e-15, 1.8491233143792758e-16, 6.613684236771283e-15, 3.2822980256241275e-16, -2.974190478496039e-16, 3.1704655853791885e-15, -3.135276708072015e-15, -4.856565743603306e-16, 2.46474482276692e-15, 9.185743786567105e-16, -7.636462969578343e-15, 1.718306190164684e-16, -1.758796545861717e-15, -1.5461310649084406e-15, -1.6862261357275505e-15, -1.8584981140519205e-16, -4.1207910797100547e-16, 'F', '300', 'P02', '23:00-23:59', 'unknown', '00', 'unknown']\n",
            "26\n"
          ]
        }
      ]
    },
    {
      "cell_type": "markdown",
      "source": [
        "**calculate the distance between clusters**"
      ],
      "metadata": {
        "id": "Xw-xFD628l7O"
      }
    },
    {
      "cell_type": "code",
      "source": [
        "#將群心的數值型資料從str轉為float\n",
        "for i in range(len(set2_k30_json['cluster_centroids'])):\n",
        "  for j in range(0,19):\n",
        "    set2_k30_json['cluster_centroids'][i][j] = float(set2_k30_json['cluster_centroids'][i][j])"
      ],
      "metadata": {
        "id": "fvCsskdL8l7P"
      },
      "execution_count": 35,
      "outputs": []
    },
    {
      "cell_type": "code",
      "source": [
        "## 計算群間總距離\n",
        "\n",
        "#for numeric data(Euclidean distance) \n",
        "#計算資料中心點與所有群心的距離平方和加總\n",
        "def SquareDsit(x, y):\n",
        "  return sum([(x-y)**2 for (x,y) in zip(x,y)])\n",
        "\n",
        "numeric_dist_between_cluters = 0\n",
        "for i in range(len(set2_k30_json['cluster_centroids'])):\n",
        "  distance = count_per_cluster[i]*(SquareDsit(set2_k30_json['cluster_centroids'][i][:19], dataset_centroids[:19]))\n",
        "  numeric_dist_between_cluters += distance\n",
        "\n",
        "\n",
        "\n",
        "#for categorical data\n",
        "temp = 0\n",
        "categorical_dist_between_cluters = 0\n",
        "for i in range(len(set2_k30_json['cluster_centroids'])):\n",
        "  for j in range(len(set2_k30_json['cluster_centroids'][i][19:])):\n",
        "    if (set2_k30_json['cluster_centroids'][i][19+j] == dataset_centroids[19+j]):\n",
        "      temp += 0\n",
        "    elif (set2_k30_json['cluster_centroids'][i][19+j] != dataset_centroids[19+j]):\n",
        "      temp += 1    \n",
        "  distance = count_per_cluster[i]*temp\n",
        "  temp = 0\n",
        "  categorical_dist_between_cluters += distance\n",
        "\n",
        "\n",
        "\n",
        "#mix numeric and categorical\n",
        "categorical_weight = set2_k30_json['categorical_weight'] \n",
        "dist_between_cluters = numeric_dist_between_cluters + (categorical_weight * categorical_dist_between_cluters)"
      ],
      "metadata": {
        "id": "olNyWVPL8l7Q"
      },
      "execution_count": 36,
      "outputs": []
    },
    {
      "cell_type": "markdown",
      "source": [
        "**calculate evaluative scores**"
      ],
      "metadata": {
        "id": "On095m4S8l7Q"
      }
    },
    {
      "cell_type": "code",
      "source": [
        "dist_within_cluster = set2_k30_json['dist_within_cluster'] \n",
        "N = len(set2_k30_df)\n",
        "k = 30"
      ],
      "metadata": {
        "id": "0ojdjztN8l7R"
      },
      "execution_count": 37,
      "outputs": []
    },
    {
      "cell_type": "code",
      "source": [
        "#evaluate score(based on Calinski-Harabasz Score) -> (distance between clusters/distance within cluster)*(N-k/k-1)\n",
        "evaluate_score = (dist_between_cluters/(dist_within_cluster))*((N-k)/(k-1))\n",
        "evaluate_score"
      ],
      "metadata": {
        "colab": {
          "base_uri": "https://localhost:8080/"
        },
        "outputId": "3f66aa09-3f70-4a21-8180-11d396f42527",
        "id": "YKj_X5fk8l7R"
      },
      "execution_count": 38,
      "outputs": [
        {
          "output_type": "execute_result",
          "data": {
            "text/plain": [
              "15136.46500112132"
            ]
          },
          "metadata": {},
          "execution_count": 38
        }
      ]
    },
    {
      "cell_type": "markdown",
      "source": [
        "# **set 3**"
      ],
      "metadata": {
        "id": "XzBacsek4HWI"
      }
    },
    {
      "cell_type": "markdown",
      "source": [
        "# **calculate evaluative scores(based on Calinski-Harabasz Score)**"
      ],
      "metadata": {
        "id": "WYwzEAET8nn4"
      }
    },
    {
      "cell_type": "markdown",
      "source": [
        "**load data**"
      ],
      "metadata": {
        "id": "_QZJqqph8nn5"
      }
    },
    {
      "cell_type": "code",
      "source": [
        "set3_k10_df = pd.read_csv('/content/drive/MyDrive/巨量行銷/kprototypes/results/set3_k10.csv', dtype={'Gender_Code':str, 'ZIP_Code':str, 'AD_TAG':str, 'INV_time_mode':str, 'APP_time_mode':str, 'TXN_time_mode':str, 'TXN_zip_code':str})\n",
        "set3_k20_df = pd.read_csv('/content/drive/MyDrive/巨量行銷/kprototypes/results/set3_k20.csv', dtype={'Gender_Code':str, 'ZIP_Code':str, 'AD_TAG':str, 'INV_time_mode':str, 'APP_time_mode':str, 'TXN_time_mode':str, 'TXN_zip_code':str})\n",
        "set3_k30_df = pd.read_csv('/content/drive/MyDrive/巨量行銷/kprototypes/results/set3_k30.csv', dtype={'Gender_Code':str, 'ZIP_Code':str, 'AD_TAG':str, 'INV_time_mode':str, 'APP_time_mode':str, 'TXN_time_mode':str, 'TXN_zip_code':str})"
      ],
      "metadata": {
        "id": "ibA8I81T8nn6"
      },
      "execution_count": 39,
      "outputs": []
    },
    {
      "cell_type": "code",
      "source": [
        "with open(\"/content/drive/MyDrive/巨量行銷/kprototypes/outputs/set3_k10.json\") as f:\n",
        "  set3_k10_json = json.load(f)\n",
        "\n",
        "with open(\"/content/drive/MyDrive/巨量行銷/kprototypes/outputs/set3_k20.json\") as f:\n",
        "  set3_k20_json = json.load(f)\n",
        "\n",
        "with open(\"/content/drive/MyDrive/巨量行銷/kprototypes/outputs/set3_k30.json\") as f:\n",
        "  set3_k30_json = json.load(f)"
      ],
      "metadata": {
        "id": "T5RIGPZu8nn6"
      },
      "execution_count": 40,
      "outputs": []
    },
    {
      "cell_type": "markdown",
      "source": [
        "**count per cluster**"
      ],
      "metadata": {
        "id": "A5l9HyeL8nn7"
      }
    },
    {
      "cell_type": "code",
      "source": [
        "count_per_cluster_df = set3_k30_df['cluster_labels'].value_counts().rename_axis('cluster_num').reset_index(name='counts')\n",
        "count_per_cluster_df = count_per_cluster_df.sort_values(by=['cluster_num'])\n",
        "count_per_cluster = count_per_cluster_df['counts'].values.tolist()\n",
        "print(count_per_cluster)\n",
        "print(len(count_per_cluster))"
      ],
      "metadata": {
        "colab": {
          "base_uri": "https://localhost:8080/"
        },
        "outputId": "758b7c10-14af-4c1f-aa35-7334f14713ec",
        "id": "hN8-WEoW8nn7"
      },
      "execution_count": 54,
      "outputs": [
        {
          "output_type": "stream",
          "name": "stdout",
          "text": [
            "[11355, 63, 3984, 13040, 3412, 8156, 26753, 248, 3049, 23255, 5433, 5845, 28464, 22, 10087, 6866, 6, 10129, 12265, 5647, 8163, 15098, 40718, 15898, 4858, 3823, 520, 15614, 17349, 8771]\n",
            "30\n"
          ]
        }
      ]
    },
    {
      "cell_type": "markdown",
      "source": [
        "**find the centroid of the dataset**"
      ],
      "metadata": {
        "id": "MNKZvlq68nn8"
      }
    },
    {
      "cell_type": "code",
      "source": [
        "temp = []\n",
        "\n",
        "categorical_feature = set3_k30_df[['Gender_Code', 'ZIP_Code', 'AD_TAG', 'INV_time_mode', 'APP_time_mode', 'TXN_time_mode', 'TXN_zip_code']]\n",
        "numerical_feature = set3_k30_df.drop(columns=['Gender_Code', 'ZIP_Code', 'AD_TAG', 'INV_time_mode', 'APP_time_mode', 'TXN_time_mode', 'TXN_zip_code', 'cluster_labels'])\n",
        "\n",
        "temp.append(set3_k30_df[list(numerical_feature.columns)].mean().values.tolist())\n",
        "temp.append(categorical_feature.mode().values.tolist())\n",
        "#print(temp)\n",
        "\n",
        "dataset_centroids = []\n",
        "for i in range(len(temp[0])):\n",
        "  dataset_centroids.append(temp[0][i])\n",
        "\n",
        "for i in range(len(temp[1][0])):\n",
        "  dataset_centroids.append(temp[1][0][i])\n",
        "\n",
        "print(dataset_centroids)\n",
        "print(len(dataset_centroids))"
      ],
      "metadata": {
        "colab": {
          "base_uri": "https://localhost:8080/"
        },
        "outputId": "565f24d6-48d7-4235-aea5-bac36d0b1789",
        "id": "ch-61ymY8nn9"
      },
      "execution_count": 55,
      "outputs": [
        {
          "output_type": "stream",
          "name": "stdout",
          "text": [
            "[-1.9670794114423322e-16, -7.527986994143146e-17, 1.718306190164684e-16, -1.758796545861717e-15, -4.850537872818469e-15, 1.2909304749998321e-15, -1.5461310649084406e-15, -1.6862261357275505e-15, 5.970075325407911e-15, 4.134161138642583e-16, -1.8584981140519205e-16, -4.431347999709824e-15, -7.80571707009734e-17, 2.9021366704742948e-15, 2.4216146902540005e-15, 1.39653646365923e-15, -1.9475798550799014e-15, -1.757137093270125e-15, 4.014940773766894e-15, -3.3101647525748113e-15, 1.8986477486748934e-15, 3.1243448799209925e-15, -3.7961294416707153e-16, -1.2410108446933097e-15, -4.1207910797100547e-16, 'F', '300', 'P02', '23:00-23:59', 'unknown', '00', 'unknown']\n",
            "32\n"
          ]
        }
      ]
    },
    {
      "cell_type": "markdown",
      "source": [
        "**calculate the distance between clusters**"
      ],
      "metadata": {
        "id": "WA9Q_lpx8nn9"
      }
    },
    {
      "cell_type": "code",
      "source": [
        "#將群心的數值型資料從str轉為float\n",
        "for i in range(len(set3_k30_json['cluster_centroids'])):\n",
        "  for j in range(0,25):\n",
        "    set3_k30_json['cluster_centroids'][i][j] = float(set3_k30_json['cluster_centroids'][i][j])"
      ],
      "metadata": {
        "id": "KL_WwH2W8nn-"
      },
      "execution_count": 56,
      "outputs": []
    },
    {
      "cell_type": "code",
      "source": [
        "## 計算群間總距離\n",
        "\n",
        "#for numeric data(Euclidean distance) \n",
        "#計算資料中心點與所有群心的距離平方和加總\n",
        "def SquareDsit(x, y):\n",
        "  return sum([(x-y)**2 for (x,y) in zip(x,y)])\n",
        "\n",
        "numeric_dist_between_cluters = 0\n",
        "for i in range(len(set3_k30_json['cluster_centroids'])):\n",
        "  distance = count_per_cluster[i]*(SquareDsit(set3_k30_json['cluster_centroids'][i][:25], dataset_centroids[:25]))\n",
        "  numeric_dist_between_cluters += distance\n",
        "\n",
        "\n",
        "\n",
        "#for categorical data\n",
        "temp = 0\n",
        "categorical_dist_between_cluters = 0\n",
        "for i in range(len(set3_k30_json['cluster_centroids'])):\n",
        "  for j in range(len(set3_k30_json['cluster_centroids'][i][25:])):\n",
        "    if (set3_k30_json['cluster_centroids'][i][25+j] == dataset_centroids[25+j]):\n",
        "      temp += 0\n",
        "    elif (set3_k30_json['cluster_centroids'][i][25+j] != dataset_centroids[25+j]):\n",
        "      temp += 1    \n",
        "  distance = count_per_cluster[i]*temp\n",
        "  temp = 0\n",
        "  categorical_dist_between_cluters += distance\n",
        "\n",
        "\n",
        "\n",
        "#mix numeric and categorical\n",
        "categorical_weight = set3_k30_json['categorical_weight'] \n",
        "dist_between_cluters = numeric_dist_between_cluters + (categorical_weight * categorical_dist_between_cluters)"
      ],
      "metadata": {
        "id": "ErA7Wme98nn-"
      },
      "execution_count": 57,
      "outputs": []
    },
    {
      "cell_type": "markdown",
      "source": [
        "**calculate evaluative scores**"
      ],
      "metadata": {
        "id": "k5l_MB1d8nn_"
      }
    },
    {
      "cell_type": "code",
      "source": [
        "dist_within_cluster = set3_k30_json['dist_within_cluster'] \n",
        "N = len(set3_k30_df)\n",
        "k = 30"
      ],
      "metadata": {
        "id": "35lBzBSm8nn_"
      },
      "execution_count": 58,
      "outputs": []
    },
    {
      "cell_type": "code",
      "source": [
        "#evaluate score(based on Calinski-Harabasz Score) -> (distance between clusters/distance within cluster)*(N-k/k-1)\n",
        "evaluate_score = (dist_between_cluters/(dist_within_cluster))*((N-k)/(k-1))\n",
        "evaluate_score"
      ],
      "metadata": {
        "colab": {
          "base_uri": "https://localhost:8080/"
        },
        "outputId": "d1be6816-0551-46a4-97f5-d229b3d6852b",
        "id": "ySYNWUDG8noA"
      },
      "execution_count": 59,
      "outputs": [
        {
          "output_type": "execute_result",
          "data": {
            "text/plain": [
              "18544.013309859467"
            ]
          },
          "metadata": {},
          "execution_count": 59
        }
      ]
    },
    {
      "cell_type": "markdown",
      "source": [
        "# **set 4**"
      ],
      "metadata": {
        "id": "ny30uRfs4JpR"
      }
    },
    {
      "cell_type": "markdown",
      "source": [
        "# **calculate evaluative scores(based on Calinski-Harabasz Score)**"
      ],
      "metadata": {
        "id": "wy1V79QG8pRg"
      }
    },
    {
      "cell_type": "markdown",
      "source": [
        "**load data**"
      ],
      "metadata": {
        "id": "9rCcdJH58pRi"
      }
    },
    {
      "cell_type": "code",
      "source": [
        "set4_k10_df = pd.read_csv('/content/drive/MyDrive/巨量行銷/kprototypes/results/set4_k10.csv', dtype={'Gender_Code':str, 'ZIP_Code':str, 'AD_TAG':str, 'INV_time_mode':str, 'APP_time_mode':str, 'TXN_time_mode':str, 'TXN_zip_code':str})\n",
        "set4_k20_df = pd.read_csv('/content/drive/MyDrive/巨量行銷/kprototypes/results/set4_k20.csv', dtype={'Gender_Code':str, 'ZIP_Code':str, 'AD_TAG':str, 'INV_time_mode':str, 'APP_time_mode':str, 'TXN_time_mode':str, 'TXN_zip_code':str})\n",
        "set4_k30_df = pd.read_csv('/content/drive/MyDrive/巨量行銷/kprototypes/results/set4_k30.csv', dtype={'Gender_Code':str, 'ZIP_Code':str, 'AD_TAG':str, 'INV_time_mode':str, 'APP_time_mode':str, 'TXN_time_mode':str, 'TXN_zip_code':str})"
      ],
      "metadata": {
        "id": "YdcL3WgT8pRi"
      },
      "execution_count": 61,
      "outputs": []
    },
    {
      "cell_type": "code",
      "source": [
        "with open(\"/content/drive/MyDrive/巨量行銷/kprototypes/outputs/set4_k10.json\") as f:\n",
        "  set4_k10_json = json.load(f)\n",
        "\n",
        "with open(\"/content/drive/MyDrive/巨量行銷/kprototypes/outputs/set4_k20.json\") as f:\n",
        "  set4_k20_json = json.load(f)\n",
        "\n",
        "with open(\"/content/drive/MyDrive/巨量行銷/kprototypes/outputs/set4_k30.json\") as f:\n",
        "  set4_k30_json = json.load(f)"
      ],
      "metadata": {
        "id": "sNLWI0zB8pRj"
      },
      "execution_count": 62,
      "outputs": []
    },
    {
      "cell_type": "markdown",
      "source": [
        "**count per cluster**"
      ],
      "metadata": {
        "id": "rQrMXhAF8pRk"
      }
    },
    {
      "cell_type": "code",
      "source": [
        "count_per_cluster_df = set4_k30_df['cluster_labels'].value_counts().rename_axis('cluster_num').reset_index(name='counts')\n",
        "count_per_cluster_df = count_per_cluster_df.sort_values(by=['cluster_num'])\n",
        "count_per_cluster = count_per_cluster_df['counts'].values.tolist()\n",
        "print(count_per_cluster)\n",
        "print(len(count_per_cluster))"
      ],
      "metadata": {
        "colab": {
          "base_uri": "https://localhost:8080/"
        },
        "outputId": "d2863e03-087c-4f26-dde7-9eddcf097eae",
        "id": "OLsLFzG98pRk"
      },
      "execution_count": 76,
      "outputs": [
        {
          "output_type": "stream",
          "name": "stdout",
          "text": [
            "[28170, 10863, 76, 6824, 12981, 1252, 29837, 14744, 19520, 5, 175, 3877, 1138, 18057, 249, 512, 5505, 22657, 20090, 30214, 8, 2166, 43690, 7315, 22, 1773, 2874, 13473, 3700, 7124]\n",
            "30\n"
          ]
        }
      ]
    },
    {
      "cell_type": "markdown",
      "source": [
        "**find the centroid of the dataset**"
      ],
      "metadata": {
        "id": "9Yw93Krj8pRl"
      }
    },
    {
      "cell_type": "code",
      "source": [
        "temp = []\n",
        "\n",
        "categorical_feature = set4_k30_df[['Gender_Code', 'ZIP_Code', 'AD_TAG', 'INV_time_mode', 'APP_time_mode', 'TXN_time_mode', 'TXN_zip_code']]\n",
        "numerical_feature = set4_k30_df.drop(columns=['Gender_Code', 'ZIP_Code', 'AD_TAG', 'INV_time_mode', 'APP_time_mode', 'TXN_time_mode', 'TXN_zip_code', 'cluster_labels'])\n",
        "\n",
        "temp.append(set4_k30_df[list(numerical_feature.columns)].mean().values.tolist())\n",
        "temp.append(categorical_feature.mode().values.tolist())\n",
        "#print(temp)\n",
        "\n",
        "dataset_centroids = []\n",
        "for i in range(len(temp[0])):\n",
        "  dataset_centroids.append(temp[0][i])\n",
        "\n",
        "for i in range(len(temp[1][0])):\n",
        "  dataset_centroids.append(temp[1][0][i])\n",
        "\n",
        "print(dataset_centroids)\n",
        "print(len(dataset_centroids))"
      ],
      "metadata": {
        "colab": {
          "base_uri": "https://localhost:8080/"
        },
        "outputId": "61f68732-01d2-40c4-a1f5-f41ed70a93fe",
        "id": "xeDxG-Zu8pRm"
      },
      "execution_count": 77,
      "outputs": [
        {
          "output_type": "stream",
          "name": "stdout",
          "text": [
            "[-1.9670794114423322e-16, -1.7139122529907155e-16, -7.527986994143146e-17, -3.107525355667985e-16, -1.4407941936690026e-15, 1.8491233143792758e-16, 6.613684236771283e-15, 3.2822980256241275e-16, -2.974190478496039e-16, 3.1704655853791885e-15, -3.135276708072015e-15, -4.856565743603306e-16, 2.46474482276692e-15, 9.185743786567105e-16, -7.636462969578343e-15, 1.718306190164684e-16, -1.758796545861717e-15, -2.4365535375120975e-15, -2.2353854356418053e-15, -4.850537872818469e-15, 1.2909304749998321e-15, -1.5461310649084406e-15, -1.6862261357275505e-15, -4.1677671203003364e-16, -1.484425091250849e-15, 5.970075325407911e-15, 4.134161138642583e-16, -1.8584981140519205e-16, 2.8122900676371733e-16, -1.7730043282354087e-15, -4.431347999709824e-15, -7.80571707009734e-17, 2.9021366704742948e-15, 2.4216146902540005e-15, 1.39653646365923e-15, -1.9475798550799014e-15, -1.757137093270125e-15, 4.014940773766894e-15, -3.3101647525748113e-15, 1.8986477486748934e-15, 3.1243448799209925e-15, -3.7961294416707153e-16, -1.2410108446933097e-15, -4.1207910797100547e-16, 'F', '300', 'P02', '23:00-23:59', 'unknown', '00', 'unknown']\n",
            "51\n"
          ]
        }
      ]
    },
    {
      "cell_type": "markdown",
      "source": [
        "**calculate the distance between clusters**"
      ],
      "metadata": {
        "id": "vyKvvDJ78pRn"
      }
    },
    {
      "cell_type": "code",
      "source": [
        "#將群心的數值型資料從str轉為float\n",
        "for i in range(len(set4_k30_json['cluster_centroids'])):\n",
        "  for j in range(0,44):\n",
        "    set4_k30_json['cluster_centroids'][i][j] = float(set4_k30_json['cluster_centroids'][i][j])"
      ],
      "metadata": {
        "id": "nGVJvCUr8pRn"
      },
      "execution_count": 78,
      "outputs": []
    },
    {
      "cell_type": "code",
      "source": [
        "## 計算群間總距離\n",
        "\n",
        "#for numeric data(Euclidean distance) \n",
        "#計算資料中心點與所有群心的距離平方和加總\n",
        "def SquareDsit(x, y):\n",
        "  return sum([(x-y)**2 for (x,y) in zip(x,y)])\n",
        "\n",
        "numeric_dist_between_cluters = 0\n",
        "for i in range(len(set4_k30_json['cluster_centroids'])):\n",
        "  distance = count_per_cluster[i]*(SquareDsit(set4_k30_json['cluster_centroids'][i][:44], dataset_centroids[:44]))\n",
        "  numeric_dist_between_cluters += distance\n",
        "\n",
        "\n",
        "\n",
        "#for categorical data\n",
        "temp = 0\n",
        "categorical_dist_between_cluters = 0\n",
        "for i in range(len(set4_k30_json['cluster_centroids'])):\n",
        "  for j in range(len(set4_k30_json['cluster_centroids'][i][44:])):\n",
        "    if (set4_k30_json['cluster_centroids'][i][44+j] == dataset_centroids[44+j]):\n",
        "      temp += 0\n",
        "    elif (set4_k30_json['cluster_centroids'][i][44+j] != dataset_centroids[44+j]):\n",
        "      temp += 1    \n",
        "  distance = count_per_cluster[i]*temp\n",
        "  temp = 0\n",
        "  categorical_dist_between_cluters += distance\n",
        "\n",
        "\n",
        "\n",
        "#mix numeric and categorical\n",
        "categorical_weight = set4_k30_json['categorical_weight'] \n",
        "dist_between_cluters = numeric_dist_between_cluters + (categorical_weight * categorical_dist_between_cluters)"
      ],
      "metadata": {
        "id": "kjN8bTDl8pRo"
      },
      "execution_count": 79,
      "outputs": []
    },
    {
      "cell_type": "markdown",
      "source": [
        "**calculate evaluative scores**"
      ],
      "metadata": {
        "id": "MgCIRFZT8pRo"
      }
    },
    {
      "cell_type": "code",
      "source": [
        "dist_within_cluster = set4_k30_json['dist_within_cluster'] \n",
        "N = len(set4_k30_df)\n",
        "k = 30"
      ],
      "metadata": {
        "id": "zh5aYxgA8pRp"
      },
      "execution_count": 81,
      "outputs": []
    },
    {
      "cell_type": "code",
      "source": [
        "#evaluate score(based on Calinski-Harabasz Score) -> (distance between clusters/distance within cluster)*(N-k/k-1)\n",
        "evaluate_score = (dist_between_cluters/(dist_within_cluster))*((N-k)/(k-1))\n",
        "evaluate_score"
      ],
      "metadata": {
        "colab": {
          "base_uri": "https://localhost:8080/"
        },
        "outputId": "3fc8f613-a85c-4c70-b153-384dccaa7df3",
        "id": "6V7TTBFf8pRq"
      },
      "execution_count": 82,
      "outputs": [
        {
          "output_type": "execute_result",
          "data": {
            "text/plain": [
              "10472.875184241215"
            ]
          },
          "metadata": {},
          "execution_count": 82
        }
      ]
    },
    {
      "cell_type": "markdown",
      "source": [
        "# **merge data**"
      ],
      "metadata": {
        "id": "CqvPTCssDHdL"
      }
    },
    {
      "cell_type": "code",
      "source": [
        "HappyGo_df = pd.read_csv('/content/drive/MyDrive/巨量行銷/kprototypes/dataset/HappyGo_NOV_DEC_0509_FV.csv', dtype={'UID':str, 'Gender_Code':str, 'ZIP_Code':str, 'AD_TAG':str, 'INV_time_mode':str, 'APP_time_mode':str, 'TXN_time_mode':str, 'TXN_zip_code':str})\n",
        "uid = HappyGo_df['UID']\n",
        "uid"
      ],
      "metadata": {
        "colab": {
          "base_uri": "https://localhost:8080/"
        },
        "id": "sGgInUylRgIR",
        "outputId": "46e81864-13ed-4941-ee87-0ba03471730c"
      },
      "execution_count": 85,
      "outputs": [
        {
          "output_type": "execute_result",
          "data": {
            "text/plain": [
              "0         7538002\n",
              "1         3381995\n",
              "2         5941571\n",
              "3         3168811\n",
              "4          661344\n",
              "           ...   \n",
              "308886    9294184\n",
              "308887    4799178\n",
              "308888    7725327\n",
              "308889    4129081\n",
              "308890    9456107\n",
              "Name: UID, Length: 308891, dtype: object"
            ]
          },
          "metadata": {},
          "execution_count": 85
        }
      ]
    },
    {
      "cell_type": "code",
      "source": [
        "cluster_labels = set1_k10_df['cluster_labels']\n",
        "cluster_labels"
      ],
      "metadata": {
        "colab": {
          "base_uri": "https://localhost:8080/"
        },
        "id": "MzuY188u8BaL",
        "outputId": "5b4c66dd-3fce-486f-9296-803d886fa3b7"
      },
      "execution_count": 83,
      "outputs": [
        {
          "output_type": "execute_result",
          "data": {
            "text/plain": [
              "0         9\n",
              "1         8\n",
              "2         5\n",
              "3         0\n",
              "4         8\n",
              "         ..\n",
              "308886    1\n",
              "308887    8\n",
              "308888    7\n",
              "308889    2\n",
              "308890    3\n",
              "Name: cluster_labels, Length: 308891, dtype: int64"
            ]
          },
          "metadata": {},
          "execution_count": 83
        }
      ]
    },
    {
      "cell_type": "code",
      "source": [
        "pd.concat([uid, cluster_labels], axis=1)"
      ],
      "metadata": {
        "colab": {
          "base_uri": "https://localhost:8080/",
          "height": 423
        },
        "id": "Olz2CZ4WCtdC",
        "outputId": "bba018ed-522b-4bf2-a675-9661760495ac"
      },
      "execution_count": 87,
      "outputs": [
        {
          "output_type": "execute_result",
          "data": {
            "text/plain": [
              "            UID  cluster_labels\n",
              "0       7538002               9\n",
              "1       3381995               8\n",
              "2       5941571               5\n",
              "3       3168811               0\n",
              "4        661344               8\n",
              "...         ...             ...\n",
              "308886  9294184               1\n",
              "308887  4799178               8\n",
              "308888  7725327               7\n",
              "308889  4129081               2\n",
              "308890  9456107               3\n",
              "\n",
              "[308891 rows x 2 columns]"
            ],
            "text/html": [
              "\n",
              "  <div id=\"df-042f1944-6c93-4c3d-a0cf-be31b26b393d\">\n",
              "    <div class=\"colab-df-container\">\n",
              "      <div>\n",
              "<style scoped>\n",
              "    .dataframe tbody tr th:only-of-type {\n",
              "        vertical-align: middle;\n",
              "    }\n",
              "\n",
              "    .dataframe tbody tr th {\n",
              "        vertical-align: top;\n",
              "    }\n",
              "\n",
              "    .dataframe thead th {\n",
              "        text-align: right;\n",
              "    }\n",
              "</style>\n",
              "<table border=\"1\" class=\"dataframe\">\n",
              "  <thead>\n",
              "    <tr style=\"text-align: right;\">\n",
              "      <th></th>\n",
              "      <th>UID</th>\n",
              "      <th>cluster_labels</th>\n",
              "    </tr>\n",
              "  </thead>\n",
              "  <tbody>\n",
              "    <tr>\n",
              "      <th>0</th>\n",
              "      <td>7538002</td>\n",
              "      <td>9</td>\n",
              "    </tr>\n",
              "    <tr>\n",
              "      <th>1</th>\n",
              "      <td>3381995</td>\n",
              "      <td>8</td>\n",
              "    </tr>\n",
              "    <tr>\n",
              "      <th>2</th>\n",
              "      <td>5941571</td>\n",
              "      <td>5</td>\n",
              "    </tr>\n",
              "    <tr>\n",
              "      <th>3</th>\n",
              "      <td>3168811</td>\n",
              "      <td>0</td>\n",
              "    </tr>\n",
              "    <tr>\n",
              "      <th>4</th>\n",
              "      <td>661344</td>\n",
              "      <td>8</td>\n",
              "    </tr>\n",
              "    <tr>\n",
              "      <th>...</th>\n",
              "      <td>...</td>\n",
              "      <td>...</td>\n",
              "    </tr>\n",
              "    <tr>\n",
              "      <th>308886</th>\n",
              "      <td>9294184</td>\n",
              "      <td>1</td>\n",
              "    </tr>\n",
              "    <tr>\n",
              "      <th>308887</th>\n",
              "      <td>4799178</td>\n",
              "      <td>8</td>\n",
              "    </tr>\n",
              "    <tr>\n",
              "      <th>308888</th>\n",
              "      <td>7725327</td>\n",
              "      <td>7</td>\n",
              "    </tr>\n",
              "    <tr>\n",
              "      <th>308889</th>\n",
              "      <td>4129081</td>\n",
              "      <td>2</td>\n",
              "    </tr>\n",
              "    <tr>\n",
              "      <th>308890</th>\n",
              "      <td>9456107</td>\n",
              "      <td>3</td>\n",
              "    </tr>\n",
              "  </tbody>\n",
              "</table>\n",
              "<p>308891 rows × 2 columns</p>\n",
              "</div>\n",
              "      <button class=\"colab-df-convert\" onclick=\"convertToInteractive('df-042f1944-6c93-4c3d-a0cf-be31b26b393d')\"\n",
              "              title=\"Convert this dataframe to an interactive table.\"\n",
              "              style=\"display:none;\">\n",
              "        \n",
              "  <svg xmlns=\"http://www.w3.org/2000/svg\" height=\"24px\"viewBox=\"0 0 24 24\"\n",
              "       width=\"24px\">\n",
              "    <path d=\"M0 0h24v24H0V0z\" fill=\"none\"/>\n",
              "    <path d=\"M18.56 5.44l.94 2.06.94-2.06 2.06-.94-2.06-.94-.94-2.06-.94 2.06-2.06.94zm-11 1L8.5 8.5l.94-2.06 2.06-.94-2.06-.94L8.5 2.5l-.94 2.06-2.06.94zm10 10l.94 2.06.94-2.06 2.06-.94-2.06-.94-.94-2.06-.94 2.06-2.06.94z\"/><path d=\"M17.41 7.96l-1.37-1.37c-.4-.4-.92-.59-1.43-.59-.52 0-1.04.2-1.43.59L10.3 9.45l-7.72 7.72c-.78.78-.78 2.05 0 2.83L4 21.41c.39.39.9.59 1.41.59.51 0 1.02-.2 1.41-.59l7.78-7.78 2.81-2.81c.8-.78.8-2.07 0-2.86zM5.41 20L4 18.59l7.72-7.72 1.47 1.35L5.41 20z\"/>\n",
              "  </svg>\n",
              "      </button>\n",
              "      \n",
              "  <style>\n",
              "    .colab-df-container {\n",
              "      display:flex;\n",
              "      flex-wrap:wrap;\n",
              "      gap: 12px;\n",
              "    }\n",
              "\n",
              "    .colab-df-convert {\n",
              "      background-color: #E8F0FE;\n",
              "      border: none;\n",
              "      border-radius: 50%;\n",
              "      cursor: pointer;\n",
              "      display: none;\n",
              "      fill: #1967D2;\n",
              "      height: 32px;\n",
              "      padding: 0 0 0 0;\n",
              "      width: 32px;\n",
              "    }\n",
              "\n",
              "    .colab-df-convert:hover {\n",
              "      background-color: #E2EBFA;\n",
              "      box-shadow: 0px 1px 2px rgba(60, 64, 67, 0.3), 0px 1px 3px 1px rgba(60, 64, 67, 0.15);\n",
              "      fill: #174EA6;\n",
              "    }\n",
              "\n",
              "    [theme=dark] .colab-df-convert {\n",
              "      background-color: #3B4455;\n",
              "      fill: #D2E3FC;\n",
              "    }\n",
              "\n",
              "    [theme=dark] .colab-df-convert:hover {\n",
              "      background-color: #434B5C;\n",
              "      box-shadow: 0px 1px 3px 1px rgba(0, 0, 0, 0.15);\n",
              "      filter: drop-shadow(0px 1px 2px rgba(0, 0, 0, 0.3));\n",
              "      fill: #FFFFFF;\n",
              "    }\n",
              "  </style>\n",
              "\n",
              "      <script>\n",
              "        const buttonEl =\n",
              "          document.querySelector('#df-042f1944-6c93-4c3d-a0cf-be31b26b393d button.colab-df-convert');\n",
              "        buttonEl.style.display =\n",
              "          google.colab.kernel.accessAllowed ? 'block' : 'none';\n",
              "\n",
              "        async function convertToInteractive(key) {\n",
              "          const element = document.querySelector('#df-042f1944-6c93-4c3d-a0cf-be31b26b393d');\n",
              "          const dataTable =\n",
              "            await google.colab.kernel.invokeFunction('convertToInteractive',\n",
              "                                                     [key], {});\n",
              "          if (!dataTable) return;\n",
              "\n",
              "          const docLinkHtml = 'Like what you see? Visit the ' +\n",
              "            '<a target=\"_blank\" href=https://colab.research.google.com/notebooks/data_table.ipynb>data table notebook</a>'\n",
              "            + ' to learn more about interactive tables.';\n",
              "          element.innerHTML = '';\n",
              "          dataTable['output_type'] = 'display_data';\n",
              "          await google.colab.output.renderOutput(dataTable, element);\n",
              "          const docLink = document.createElement('div');\n",
              "          docLink.innerHTML = docLinkHtml;\n",
              "          element.appendChild(docLink);\n",
              "        }\n",
              "      </script>\n",
              "    </div>\n",
              "  </div>\n",
              "  "
            ]
          },
          "metadata": {},
          "execution_count": 87
        }
      ]
    },
    {
      "cell_type": "code",
      "source": [
        ""
      ],
      "metadata": {
        "id": "ihtO39ZMDBbs"
      },
      "execution_count": null,
      "outputs": []
    }
  ]
}