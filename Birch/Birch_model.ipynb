{
  "cells": [
    {
      "cell_type": "markdown",
      "metadata": {
        "id": "bb10oBKxN2My"
      },
      "source": [
        "# Packages"
      ]
    },
    {
      "cell_type": "code",
      "execution_count": 1,
      "metadata": {
        "id": "4Fd-4wRVqNlz"
      },
      "outputs": [],
      "source": [
        "from sklearn.preprocessing import StandardScaler\n",
        "from sklearn.decomposition import PCA\n",
        "from sklearn.cluster import Birch\n",
        "from sklearn import metrics\n",
        "\n",
        "from tqdm import tqdm\n",
        "import pandas as pd\n",
        "import numpy as np\n",
        "import itertools"
      ]
    },
    {
      "cell_type": "markdown",
      "metadata": {
        "id": "DsGEj8bUN84E"
      },
      "source": [
        "# Read file\n"
      ]
    },
    {
      "cell_type": "code",
      "execution_count": 2,
      "metadata": {
        "id": "lX94SHTgrg_U"
      },
      "outputs": [],
      "source": [
        "# 308891\n",
        "data = pd.read_csv('../feature_data/HappyGo_NOV_DEC_0509_FV.csv')"
      ]
    },
    {
      "cell_type": "code",
      "execution_count": 3,
      "metadata": {
        "id": "8P_rqd5XrzUu"
      },
      "outputs": [],
      "source": [
        "# 全部數值型(44)\n",
        "feature_cols1 = ['INV_total_amount', 'INV_avg_amount', 'INV_count', 'INV_seller_count', 'INV_industry_count', 'INV_industry_per_catering', 'INV_industry_per_entertainment', 'INV_industry_per_financial_insurance',\n",
        "                 'INV_industry_per_health_and_beauty', 'INV_industry_per_manufacture', 'INV_industry_per_other', 'INV_industry_per_professional_services', 'INV_industry_per_retail_service', 'INV_industry_per_transportation',\n",
        "                 'INV_industry_per_wholesale', 'INV_time_avg_period', 'APP_participate_count', 'APP_bnnr_count', 'APP_game_count', 'APP_bnnr_per', 'APP_game_per', 'APP_time_avg_period', 'TXN_total_count', 'TXN_earn_count', \n",
        "                 'TXN_redeem_count', 'TXN_earn_count_per', 'TXN_redeem_count_per', 'TXN_total_point', 'TXN_earn_point', 'TXN_redeem_point', 'TXN_earn_point_per', 'TXN_redeem_point_per', 'TXN_industry_count', 'TXN_industry_per_retail',\n",
        "                 'TXN_industry_per_other', 'TXN_industry_per_dingding', 'TXN_industry_per_financial', 'TXN_industry_per_digit', 'TXN_industry_per_transportation', 'TXN_industry_per_leisure','TXN_industry_per_health', 'TXN_industry_per_professional', 'TXN_industry_per_food', 'TXN_time_avg_period']\n",
        "# 基本消費與互動資訊(8)\n",
        "feature_cols2 = ['INV_total_amount', 'INV_count', 'INV_time_avg_period', 'APP_participate_count', 'APP_time_avg_period', 'TXN_total_count', 'TXN_total_point', 'TXN_time_avg_period']\n",
        "# 基於消費通路(19)\n",
        "feature_cols3 = ['INV_avg_amount', 'INV_count', 'INV_industry_count', 'INV_industry_per_retail_service', 'INV_industry_per_wholesale', 'INV_industry_per_professional_services', 'INV_industry_per_catering', \n",
        "                 'INV_industry_per_entertainment', 'INV_industry_per_manufacture', 'INV_industry_per_other', 'INV_industry_per_transportation', 'INV_industry_per_health_and_beauty', \n",
        "                 'INV_industry_per_financial_insurance', 'INV_time_avg_period', 'APP_participate_count', 'APP_time_avg_period', 'TXN_total_count','TXN_total_point', 'TXN_time_avg_period']\n",
        "# 基於HappyGo平台互動通路(25)\n",
        "feature_cols4 = ['INV_total_amount', 'INV_count', 'INV_time_avg_period', 'APP_participate_count', 'APP_bnnr_per', 'APP_game_per', 'APP_time_avg_period', 'TXN_total_count', 'TXN_earn_count_per', 'TXN_redeem_count_per', \n",
        "                 'TXN_total_point', 'TXN_earn_point_per', 'TXN_redeem_point_per', 'TXN_industry_count', 'TXN_industry_per_retail', 'TXN_industry_per_other', 'TXN_industry_per_dingding', 'TXN_industry_per_financial', \n",
        "                 'TXN_industry_per_digit', 'TXN_industry_per_transportation', 'TXN_industry_per_leisure', 'TXN_industry_per_health', 'TXN_industry_per_professional', 'TXN_industry_per_food', 'TXN_time_avg_period']"
      ]
    },
    {
      "cell_type": "markdown",
      "metadata": {
        "id": "hRrPa3h9OJUa"
      },
      "source": [
        "# Standardization & PCA"
      ]
    },
    {
      "cell_type": "code",
      "execution_count": 4,
      "metadata": {
        "id": "qdixfivS4vIO"
      },
      "outputs": [],
      "source": [
        "scaler = StandardScaler()\n",
        "data_std1 = scaler.fit_transform(data[feature_cols1])\n",
        "# data_std2 = scaler.fit_transform(data[feature_cols2])\n",
        "data_std3 = scaler.fit_transform(data[feature_cols3])\n",
        "data_std4 = scaler.fit_transform(data[feature_cols4])"
      ]
    },
    {
      "cell_type": "code",
      "execution_count": 5,
      "metadata": {
        "id": "M6U9p0GZuS6A"
      },
      "outputs": [],
      "source": [
        "pca1 = PCA()\n",
        "pca1.fit(data_std1)\n",
        "pca_cumsum1 = pca1.explained_variance_ratio_.cumsum()\n",
        "pca_num1 = np.where(pca_cumsum1 < 0.9)[0]+1\n",
        "\n",
        "# pca2 = PCA()\n",
        "# pca2.fit(data_std2)\n",
        "# pca_cumsum2 = pca2.explained_variance_ratio_.cumsum()\n",
        "# pca_num2 = np.where(pca_cumsum2 < 0.9)[0]+1\n",
        "\n",
        "pca3 = PCA()\n",
        "pca3.fit(data_std3)\n",
        "pca_cumsum3 = pca3.explained_variance_ratio_.cumsum()\n",
        "pca_num3 = np.where(pca_cumsum3 < 0.9)[0]+1\n",
        "\n",
        "pca4 = PCA()\n",
        "pca4.fit(data_std4)\n",
        "pca_cumsum4 = pca4.explained_variance_ratio_.cumsum()\n",
        "pca_num4 = np.where(pca_cumsum4 < 0.9)[0]+1"
      ]
    },
    {
      "cell_type": "markdown",
      "metadata": {
        "id": "cKo9xyopjGDc"
      },
      "source": [
        "# 參數排列組合"
      ]
    },
    {
      "cell_type": "code",
      "execution_count": null,
      "metadata": {
        "id": "P9FE3CzfuwLR"
      },
      "outputs": [],
      "source": [
        "# pn * 27 種\n",
        "cluster_num = [10, 20, 30]\n",
        "max_radius = [0.5, 0.7, 0.9]\n",
        "max_subcluster_num = [10000, 15000, 20000]\n",
        "pca_num = [1, 2, 3, 4]\n",
        "\n",
        "parameter_set1 = list(itertools.product(pca_num, cluster_num, max_radius, max_subcluster_num))\n",
        "# parameter_set2 = list(itertools.product(pca_num2, cluster_num, max_radius, max_subcluster_num))\n",
        "parameter_set3 = list(itertools.product(pca_num, cluster_num, max_radius, max_subcluster_num))\n",
        "parameter_set4 = list(itertools.product(pca_num, cluster_num, max_radius, max_subcluster_num))"
      ]
    },
    {
      "cell_type": "markdown",
      "metadata": {
        "id": "kH0U0xrs5fC_"
      },
      "source": [
        "# Build the Birch model "
      ]
    },
    {
      "cell_type": "code",
      "execution_count": null,
      "metadata": {
        "id": "LvhzCNfNpJzA"
      },
      "outputs": [],
      "source": [
        "# parameter setting\n",
        "\n",
        "def run_model(set, data_std):\n",
        "    # get the parameter\n",
        "    pn, cn, T, b = set\n",
        "\n",
        "    # PCA\n",
        "    pca = PCA(n_components = pn)\n",
        "    pca.fit(data_std)\n",
        "    data_pca = pca.transform(data_std)\n",
        "\n",
        "    # build the model and evaluate\n",
        "    model = Birch(threshold=T, branching_factor=b, n_clusters=cn)\n",
        "    model.fit(data_pca)\n",
        "    labels = model.fit_predict(data_pca)\n",
        "    CH_score = round(metrics.calinski_harabasz_score(data_pca, labels), 4)\n",
        "    \n",
        "    return pn, cn, T, b, CH_score, labels"
      ]
    },
    {
      "cell_type": "code",
      "execution_count": null,
      "metadata": {
        "colab": {
          "base_uri": "https://localhost:8080/"
        },
        "id": "Z5uptY_M6yjA",
        "outputId": "4aa2df8f-8cd3-4d6b-c71f-ecdf7d33424b"
      },
      "outputs": [
        {
          "name": "stderr",
          "output_type": "stream",
          "text": [
            " 51%|█████     | 51/100 [1:42:03<1:38:02, 120.06s/it]\n",
            "  0%|          | 0/100 [1:43:04<?, ?it/s]\n",
            "100%|██████████| 50/50 [1:40:33<00:00, 120.66s/it]\n"
          ]
        }
      ],
      "source": [
        "result1 = [run_model(s, data_std1) for s in tqdm(parameter_set1)]\n",
        "result3 = [run_model(s, data_std3) for s in tqdm(parameter_set3)]\n",
        "result4 = [run_model(s, data_std4) for s in tqdm(parameter_set4)]"
      ]
    },
    {
      "cell_type": "code",
      "execution_count": null,
      "metadata": {
        "id": "JRL_IHjo62Lw"
      },
      "outputs": [],
      "source": [
        "df1 = pd.DataFrame(result1, columns=['pca_num', 'n', 'T', 'b', 'CH_score', 'labels'])\n",
        "df3 = pd.DataFrame(result3, columns=['pca_num', 'n', 'T', 'b', 'CH_score', 'labels'])\n",
        "df4 = pd.DataFrame(result4, columns=['pca_num', 'n', 'T', 'b', 'CH_score', 'labels'])"
      ]
    },
    {
      "cell_type": "code",
      "execution_count": null,
      "metadata": {
        "id": "3gfjd096rDSp"
      },
      "outputs": [],
      "source": [
        "df1.to_csv(\"all_numeric_features.csv\", index=False)\n",
        "df3.to_csv(\"buy_way_features.csv\", index=False)\n",
        "df4.to_csv(\"happy_way_features.csv\", index=False)"
      ]
    },
    {
      "cell_type": "code",
      "execution_count": null,
      "metadata": {},
      "outputs": [],
      "source": []
    }
  ],
  "metadata": {
    "colab": {
      "collapsed_sections": [],
      "name": "Birch_model_0509.ipynb",
      "provenance": []
    },
    "interpreter": {
      "hash": "81794d4967e6c3204c66dcd87b604927b115b27c00565d3d43f05ba2f3a2cb0d"
    },
    "kernelspec": {
      "display_name": "Python 3.9.7 64-bit",
      "language": "python",
      "name": "python3"
    },
    "language_info": {
      "codemirror_mode": {
        "name": "ipython",
        "version": 3
      },
      "file_extension": ".py",
      "mimetype": "text/x-python",
      "name": "python",
      "nbconvert_exporter": "python",
      "pygments_lexer": "ipython3",
      "version": "3.9.7"
    }
  },
  "nbformat": 4,
  "nbformat_minor": 0
}
