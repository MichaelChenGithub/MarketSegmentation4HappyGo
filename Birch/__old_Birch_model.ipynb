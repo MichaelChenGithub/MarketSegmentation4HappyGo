{
  "cells": [
    {
      "cell_type": "markdown",
      "metadata": {
        "id": "bb10oBKxN2My"
      },
      "source": [
        "# Packages"
      ]
    },
    {
      "cell_type": "code",
      "execution_count": 40,
      "metadata": {
        "colab": {
          "base_uri": "https://localhost:8080/",
          "height": 347
        },
        "id": "4Fd-4wRVqNlz",
        "outputId": "7fafab84-54ae-409b-d9ca-26f5d23e15dc"
      },
      "outputs": [],
      "source": [
        "from sklearn.preprocessing import StandardScaler\n",
        "from sklearn.decomposition import PCA\n",
        "from sklearn.cluster import Birch\n",
        "from sklearn import metrics\n",
        "\n",
        "import numpy as np\n",
        "import pandas as pd\n",
        "import matplotlib.pyplot as plt"
      ]
    },
    {
      "cell_type": "markdown",
      "metadata": {
        "id": "DsGEj8bUN84E"
      },
      "source": [
        "# Read file\n"
      ]
    },
    {
      "cell_type": "code",
      "execution_count": 41,
      "metadata": {
        "id": "lX94SHTgrg_U"
      },
      "outputs": [],
      "source": [
        "# 308891\n",
        "data = pd.read_csv('../feature_data/HappyGo_NOV_DEC.csv', index_col=0)"
      ]
    },
    {
      "cell_type": "code",
      "execution_count": 42,
      "metadata": {
        "id": "8P_rqd5XrzUu"
      },
      "outputs": [],
      "source": [
        "feature_cols = ['INV_total_amount',\n",
        "       'INV_avg_amount', 'INV_count', 'INV_seller_count', 'INV_industry_count',\n",
        "       'INV_time_avg_period', 'APP_participate_count', 'APP_bnnr_count', 'APP_game_count',\n",
        "       'APP_time_avg_period', 'TXN_total_count', 'TXN_earn_count', 'TXN_redeem_count',\n",
        "       'TXN_total_point', 'TXN_earn_point', 'TXN_redeem_point', 'TXN_industry_count',\n",
        "       'TXN_time_avg_period']"
      ]
    },
    {
      "cell_type": "code",
      "execution_count": 43,
      "metadata": {
        "id": "IIZZ0vjDuXuW"
      },
      "outputs": [],
      "source": [
        "# 先刪除空值，試跑模型\n",
        "# 238904\n",
        "data_rm_nan = data[feature_cols].dropna().reset_index(drop=True)"
      ]
    },
    {
      "cell_type": "code",
      "execution_count": 44,
      "metadata": {},
      "outputs": [],
      "source": [
        "mask1 = (data_rm_nan['INV_time_avg_period']!= -1)\n",
        "mask2 = (data_rm_nan['APP_time_avg_period']!= -1)\n",
        "mask3 = (data_rm_nan['TXN_time_avg_period']!= -1)\n",
        "\n",
        "data_rm_nan = data_rm_nan[mask1&mask2&mask3]\n",
        "data_rm_nan['TXN_redeem_point'] = abs(data_rm_nan['TXN_redeem_point'])"
      ]
    },
    {
      "cell_type": "code",
      "execution_count": 45,
      "metadata": {},
      "outputs": [],
      "source": [
        "from feature_engine import transformation as vt\n",
        "\n",
        "data_rm_nan\n",
        "# set up the variable transformer\n",
        "tf = vt.YeoJohnsonTransformer(variables = ['INV_total_amount', 'INV_avg_amount', 'INV_count', 'INV_seller_count',\n",
        "       'INV_industry_count', 'INV_time_avg_period', 'APP_participate_count',\n",
        "       'APP_bnnr_count', 'APP_game_count', 'APP_time_avg_period',\n",
        "       'TXN_total_count', 'TXN_earn_count', 'TXN_redeem_count',\n",
        "       'TXN_total_point', 'TXN_earn_point', 'TXN_redeem_point',\n",
        "       'TXN_industry_count', 'TXN_time_avg_period'])\n",
        "# fit the transformer\n",
        "tf.fit(data_rm_nan)\n",
        "data_rm_nan_t= tf.transform(data_rm_nan)"
      ]
    },
    {
      "cell_type": "markdown",
      "metadata": {
        "id": "hRrPa3h9OJUa"
      },
      "source": [
        "# Standardization & PCA"
      ]
    },
    {
      "cell_type": "code",
      "execution_count": 46,
      "metadata": {
        "id": "sRH0ZihRs_Hg"
      },
      "outputs": [],
      "source": [
        "scaler = StandardScaler()\n",
        "data_std = scaler.fit_transform(data_rm_nan_t)"
      ]
    },
    {
      "cell_type": "code",
      "execution_count": 47,
      "metadata": {
        "colab": {
          "base_uri": "https://localhost:8080/"
        },
        "id": "M6U9p0GZuS6A",
        "outputId": "58af2a24-a51a-4b93-a2ba-8b02ba1bd553"
      },
      "outputs": [
        {
          "data": {
            "text/plain": [
              "array([0.24850538, 0.4473596 , 0.56965254, 0.65441403, 0.72437481,\n",
              "       0.77715554, 0.82717644, 0.87184664, 0.90196094, 0.92966256,\n",
              "       0.95381471, 0.97021717, 0.98219515, 0.98990972, 0.99379331,\n",
              "       0.99735767, 0.9992855 , 1.        ])"
            ]
          },
          "execution_count": 47,
          "metadata": {},
          "output_type": "execute_result"
        }
      ],
      "source": [
        "pca = PCA()\n",
        "pca.fit(data_std)\n",
        "#pd.DataFrame(abs(pca.components_), columns=feature_cols)\n",
        "\n",
        "# 累積貢獻比率：前幾個主成份可以表示原始資料多少百分比的變異量\n",
        "pca.explained_variance_ratio_.cumsum()"
      ]
    },
    {
      "cell_type": "code",
      "execution_count": 48,
      "metadata": {
        "colab": {
          "base_uri": "https://localhost:8080/",
          "height": 530
        },
        "id": "-SKVtZujcvv0",
        "outputId": "72a28417-d06f-430b-cb14-83d7e0f96014"
      },
      "outputs": [
        {
          "data": {
            "text/plain": [
              "Text(0, 0.5, 'Cumulative Explained Variance')"
            ]
          },
          "execution_count": 48,
          "metadata": {},
          "output_type": "execute_result"
        },
        {
          "data": {
            "image/png": "[encoded data removed]",
            "text/plain": [
              "<Figure size 576x576 with 1 Axes>"
            ]
          },
          "metadata": {
            "needs_background": "light"
          },
          "output_type": "display_data"
        }
      ],
      "source": [
        "plt.figure(figsize = (8,8))\n",
        "plt.plot(range(1,len(feature_cols)+1), pca.explained_variance_ratio_.cumsum(), marker = 'o', linestyle= '--')\n",
        "plt.title('Explained Variance by Components')\n",
        "plt.xlabel('Number of Components')\n",
        "plt.ylabel('Cumulative Explained Variance')"
      ]
    },
    {
      "cell_type": "code",
      "execution_count": 49,
      "metadata": {
        "id": "P9FE3CzfuwLR"
      },
      "outputs": [],
      "source": [
        "pca = PCA(n_components = 9)\n",
        "pca.fit(data_std)\n",
        "\n",
        "data_pca = pca.transform(data_std)"
      ]
    },
    {
      "cell_type": "code",
      "execution_count": 50,
      "metadata": {},
      "outputs": [],
      "source": [
        "# len(data_pca)"
      ]
    },
    {
      "cell_type": "markdown",
      "metadata": {
        "id": "ucVnUDZKPR25"
      },
      "source": [
        "# Build the Birch model"
      ]
    },
    {
      "cell_type": "code",
      "execution_count": 51,
      "metadata": {},
      "outputs": [],
      "source": [
        "# #parameter setting\n",
        "# best_CH_score = 0 # calinski_harabasz_score\n",
        "# best_n = 0 # the number of clusters\n",
        "# best_T = 0 # Maximum radius of CF\n",
        "# best_b = 0 # Maximum number of CF subclusters\n",
        "\n",
        "# for n in [10, 20, 30]:\n",
        "#     for T in [0.5, 0.7, 0.9]:\n",
        "#         for b in [10000, 15000, 20000]:\n",
        "#             model = Birch(threshold=T, branching_factor=b, n_clusters=n)\n",
        "#             model.fit(data_pca)\n",
        "#             labels = model.fit_predict(data_pca)\n",
        "#             CH_score = metrics.calinski_harabasz_score(data_pca, labels)\n",
        "#             if CH_score > best_CH_score:\n",
        "#                 best_n = n\n",
        "#                 best_T = T\n",
        "#                 best_b = b\n",
        "#                 best_CH_score = CH_score\n",
        "#             print(n, T, b, 'done')\n",
        "# print('best_CH_score: ', best_CH_score)\n",
        "# print('best n: ', best_n)\n",
        "# print('best T: ', best_T)\n",
        "# print('best b: ', best_b)"
      ]
    },
    {
      "cell_type": "code",
      "execution_count": 52,
      "metadata": {},
      "outputs": [
        {
          "data": {
            "image/png": "[encoded data removed]",
            "text/plain": [
              "<Figure size 432x288 with 1 Axes>"
            ]
          },
          "metadata": {
            "needs_background": "light"
          },
          "output_type": "display_data"
        }
      ],
      "source": [
        "plt.figure()\n",
        "plt.scatter(data_pca[:,0], data_pca[:,1])\n",
        "plt.axis('equal')\n",
        "plt.title('Prediction')\n",
        "#plt.savefig('1.jpg', transparent=True)\n",
        "plt.show()"
      ]
    },
    {
      "cell_type": "code",
      "execution_count": null,
      "metadata": {},
      "outputs": [],
      "source": []
    },
    {
      "cell_type": "code",
      "execution_count": null,
      "metadata": {
        "colab": {
          "base_uri": "https://localhost:8080/",
          "height": 281
        },
        "id": "15EnIsHtu6yX",
        "outputId": "75d66ecd-43d1-4991-d1b9-6149833d0d4e"
      },
      "outputs": [
        {
          "data": {
            "image/png": "[encoded data removed]",
            "text/plain": [
              "<Figure size 432x288 with 1 Axes>"
            ]
          },
          "metadata": {
            "needs_background": "light"
          },
          "output_type": "display_data"
        }
      ],
      "source": [
        "# plt.figure()\n",
        "# plt.scatter(data_pca[:,0], data_pca[:,1], c = labels)\n",
        "# plt.axis('equal')\n",
        "# plt.title('Prediction')\n",
        "# #plt.savefig('1.jpg', transparent=True)\n",
        "# plt.show()"
      ]
    },
    {
      "cell_type": "code",
      "execution_count": null,
      "metadata": {},
      "outputs": [],
      "source": [
        "data_rm_nan['label'].value_counts()"
      ]
    }
  ],
  "metadata": {
    "colab": {
      "collapsed_sections": [],
      "name": "「「Birch_model.ipynb」的副本」的副本",
      "provenance": []
    },
    "kernelspec": {
      "display_name": "Python 3",
      "name": "python3"
    },
    "language_info": {
      "codemirror_mode": {
        "name": "ipython",
        "version": 3
      },
      "file_extension": ".py",
      "mimetype": "text/x-python",
      "name": "python",
      "nbconvert_exporter": "python",
      "pygments_lexer": "ipython3",
      "version": "3.9.7"
    }
  },
  "nbformat": 4,
  "nbformat_minor": 0
}
